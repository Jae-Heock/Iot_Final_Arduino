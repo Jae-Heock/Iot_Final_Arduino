{
 "cells": [
  {
   "cell_type": "code",
   "execution_count": 1,
   "id": "2d4030e9-87a0-489d-924d-60f74bbf8526",
   "metadata": {},
   "outputs": [],
   "source": [
    "from IotServer import IotServer # 앞에있는건 패키지 내용, 뒤에있는건 내가 읽고싶은 클래스 \n",
    "ws = IotServer()"
   ]
  },
  {
   "cell_type": "code",
   "execution_count": null,
   "id": "11b0d285-8bb1-4c95-8dcd-a3951c45208c",
   "metadata": {},
   "outputs": [
    {
     "name": "stdout",
     "output_type": "stream",
     "text": [
      "My server started at http://localhost:8080\n",
      "path: /; query: \n"
     ]
    },
    {
     "name": "stderr",
     "output_type": "stream",
     "text": [
      "127.0.0.1 - - [20/Dec/2024 18:40:49] \"GET / HTTP/1.1\" 200 -\n"
     ]
    },
    {
     "name": "stdout",
     "output_type": "stream",
     "text": [
      "path: /meas_volt; query: \n"
     ]
    },
    {
     "name": "stderr",
     "output_type": "stream",
     "text": [
      "C:\\Users\\USER\\PythonHub.py:141: UserWarning: pandas only supports SQLAlchemy connectable (engine/connection) or database string URI or sqlite3 DBAPI2 connection. Other DBAPI2 objects are not tested. Please consider using SQLAlchemy.\n",
      "  df = psql.read_sql('SELECT * FROM volt_table', self.conn)\n",
      "127.0.0.1 - - [20/Dec/2024 18:41:36] \"GET /meas_volt HTTP/1.1\" 200 -\n"
     ]
    },
    {
     "name": "stdout",
     "output_type": "stream",
     "text": [
      "path: /; query: \n"
     ]
    },
    {
     "name": "stderr",
     "output_type": "stream",
     "text": [
      "127.0.0.1 - - [20/Dec/2024 18:41:44] \"GET / HTTP/1.1\" 200 -\n"
     ]
    },
    {
     "name": "stdout",
     "output_type": "stream",
     "text": [
      "path: /meas_volt; query: \n"
     ]
    },
    {
     "name": "stderr",
     "output_type": "stream",
     "text": [
      "127.0.0.1 - - [20/Dec/2024 18:41:45] \"GET /meas_volt HTTP/1.1\" 200 -\n"
     ]
    },
    {
     "name": "stdout",
     "output_type": "stream",
     "text": [
      "path: /sample_volt; query: count=5&delay=1.5\n",
      "{'count': ['5'], 'delay': ['1.5']}\n",
      "i = 0th meas.\n",
      "i = 1th meas.\n",
      "i = 2th meas.\n",
      "i = 3th meas.\n",
      "i = 4th meas.\n"
     ]
    },
    {
     "name": "stderr",
     "output_type": "stream",
     "text": [
      "127.0.0.1 - - [20/Dec/2024 18:42:18] \"GET /sample_volt?count=5&delay=1.5 HTTP/1.1\" 200 -\n"
     ]
    },
    {
     "name": "stdout",
     "output_type": "stream",
     "text": [
      "path: /meas_light; query: \n"
     ]
    },
    {
     "name": "stderr",
     "output_type": "stream",
     "text": [
      "C:\\Users\\USER\\PythonHub.py:229: UserWarning: pandas only supports SQLAlchemy connectable (engine/connection) or database string URI or sqlite3 DBAPI2 connection. Other DBAPI2 objects are not tested. Please consider using SQLAlchemy.\n",
      "  df = psql.read_sql('SELECT * FROM light_table', self.conn)\n",
      "----------------------------------------\n",
      "Exception occurred during processing of request from ('127.0.0.1', 55925)\n",
      "Traceback (most recent call last):\n",
      "  File \"C:\\Users\\USER\\AppData\\Local\\Programs\\Python\\Python313\\Lib\\socketserver.py\", line 318, in _handle_request_noblock\n",
      "    self.process_request(request, client_address)\n",
      "    ~~~~~~~~~~~~~~~~~~~~^^^^^^^^^^^^^^^^^^^^^^^^^\n",
      "  File \"C:\\Users\\USER\\AppData\\Local\\Programs\\Python\\Python313\\Lib\\socketserver.py\", line 349, in process_request\n",
      "    self.finish_request(request, client_address)\n",
      "    ~~~~~~~~~~~~~~~~~~~^^^^^^^^^^^^^^^^^^^^^^^^^\n",
      "  File \"C:\\Users\\USER\\AppData\\Local\\Programs\\Python\\Python313\\Lib\\socketserver.py\", line 362, in finish_request\n",
      "    self.RequestHandlerClass(request, client_address, self)\n",
      "    ~~~~~~~~~~~~~~~~~~~~~~~~^^^^^^^^^^^^^^^^^^^^^^^^^^^^^^^\n",
      "  File \"C:\\Users\\USER\\AppData\\Local\\Programs\\Python\\Python313\\Lib\\http\\server.py\", line 672, in __init__\n",
      "    super().__init__(*args, **kwargs)\n",
      "    ~~~~~~~~~~~~~~~~^^^^^^^^^^^^^^^^^\n",
      "  File \"C:\\Users\\USER\\AppData\\Local\\Programs\\Python\\Python313\\Lib\\socketserver.py\", line 761, in __init__\n",
      "    self.handle()\n",
      "    ~~~~~~~~~~~^^\n",
      "  File \"C:\\Users\\USER\\AppData\\Local\\Programs\\Python\\Python313\\Lib\\http\\server.py\", line 436, in handle\n",
      "    self.handle_one_request()\n",
      "    ~~~~~~~~~~~~~~~~~~~~~~~^^\n",
      "  File \"C:\\Users\\USER\\AppData\\Local\\Programs\\Python\\Python313\\Lib\\http\\server.py\", line 424, in handle_one_request\n",
      "    method()\n",
      "    ~~~~~~^^\n",
      "  File \"C:\\Users\\USER\\IotReqHnl.py\", line 18, in do_GET\n",
      "    elif result.path == '/meas_light' : self.writeMeasLight()\n",
      "                                        ~~~~~~~~~~~~~~~~~~~^^\n",
      "  File \"C:\\Users\\USER\\IotReqHnl.py\", line 200, in writeMeasLight\n",
      "    stats = self.server.gateway.statLightTable()\n",
      "  File \"C:\\Users\\USER\\PythonHub.py\", line 236, in statLightTable\n",
      "    variance = int(serialLight.var())  # 분산값을 정수로 변환\n",
      "ValueError: cannot convert float NaN to integer\n",
      "----------------------------------------\n"
     ]
    },
    {
     "name": "stdout",
     "output_type": "stream",
     "text": [
      "path: /meas_light; query: \n"
     ]
    },
    {
     "name": "stderr",
     "output_type": "stream",
     "text": [
      "----------------------------------------\n",
      "Exception occurred during processing of request from ('127.0.0.1', 55940)\n",
      "Traceback (most recent call last):\n",
      "  File \"C:\\Users\\USER\\AppData\\Local\\Programs\\Python\\Python313\\Lib\\socketserver.py\", line 318, in _handle_request_noblock\n",
      "    self.process_request(request, client_address)\n",
      "    ~~~~~~~~~~~~~~~~~~~~^^^^^^^^^^^^^^^^^^^^^^^^^\n",
      "  File \"C:\\Users\\USER\\AppData\\Local\\Programs\\Python\\Python313\\Lib\\socketserver.py\", line 349, in process_request\n",
      "    self.finish_request(request, client_address)\n",
      "    ~~~~~~~~~~~~~~~~~~~^^^^^^^^^^^^^^^^^^^^^^^^^\n",
      "  File \"C:\\Users\\USER\\AppData\\Local\\Programs\\Python\\Python313\\Lib\\socketserver.py\", line 362, in finish_request\n",
      "    self.RequestHandlerClass(request, client_address, self)\n",
      "    ~~~~~~~~~~~~~~~~~~~~~~~~^^^^^^^^^^^^^^^^^^^^^^^^^^^^^^^\n",
      "  File \"C:\\Users\\USER\\AppData\\Local\\Programs\\Python\\Python313\\Lib\\http\\server.py\", line 672, in __init__\n",
      "    super().__init__(*args, **kwargs)\n",
      "    ~~~~~~~~~~~~~~~~^^^^^^^^^^^^^^^^^\n",
      "  File \"C:\\Users\\USER\\AppData\\Local\\Programs\\Python\\Python313\\Lib\\socketserver.py\", line 761, in __init__\n",
      "    self.handle()\n",
      "    ~~~~~~~~~~~^^\n",
      "  File \"C:\\Users\\USER\\AppData\\Local\\Programs\\Python\\Python313\\Lib\\http\\server.py\", line 436, in handle\n",
      "    self.handle_one_request()\n",
      "    ~~~~~~~~~~~~~~~~~~~~~~~^^\n",
      "  File \"C:\\Users\\USER\\AppData\\Local\\Programs\\Python\\Python313\\Lib\\http\\server.py\", line 424, in handle_one_request\n",
      "    method()\n",
      "    ~~~~~~^^\n",
      "  File \"C:\\Users\\USER\\IotReqHnl.py\", line 18, in do_GET\n",
      "    elif result.path == '/meas_light' : self.writeMeasLight()\n",
      "                                        ~~~~~~~~~~~~~~~~~~~^^\n",
      "  File \"C:\\Users\\USER\\IotReqHnl.py\", line 199, in writeMeasLight\n",
      "    result = self.server.gateway.insertLightToTable()\n",
      "  File \"C:\\Users\\USER\\PythonHub.py\", line 181, in insertLightToTable\n",
      "    self.writeDb(f\"INSERT INTO light_table(id, meas_time, light) VALUES({int(meas_time)}, {meas_time}, {light})\")\n",
      "    ~~~~~~~~~~~~^^^^^^^^^^^^^^^^^^^^^^^^^^^^^^^^^^^^^^^^^^^^^^^^^^^^^^^^^^^^^^^^^^^^^^^^^^^^^^^^^^^^^^^^^^^^^^^^^\n",
      "  File \"C:\\Users\\USER\\PythonHub.py\", line 71, in writeDb\n",
      "    self.cursor.execute(cmd)\n",
      "    ~~~~~~~~~~~~~~~~~~~^^^^^\n",
      "  File \"C:\\Users\\USER\\AppData\\Local\\Programs\\Python\\Python313\\Lib\\site-packages\\psycopg\\cursor.py\", line 97, in execute\n",
      "    raise ex.with_traceback(None)\n",
      "psycopg.errors.UniqueViolation: 중복된 키 값이 \"light_table_pkey\" 고유 제약 조건을 위반함\n",
      "DETAIL:  (id)=(1734687756) 키가 이미 있습니다.\n",
      "----------------------------------------\n"
     ]
    },
    {
     "name": "stdout",
     "output_type": "stream",
     "text": [
      "path: /meas_light; query: \n"
     ]
    },
    {
     "name": "stderr",
     "output_type": "stream",
     "text": [
      "127.0.0.1 - - [20/Dec/2024 18:42:38] \"GET /meas_light HTTP/1.1\" 200 -\n"
     ]
    },
    {
     "name": "stdout",
     "output_type": "stream",
     "text": [
      "path: /; query: \n"
     ]
    },
    {
     "name": "stderr",
     "output_type": "stream",
     "text": [
      "127.0.0.1 - - [20/Dec/2024 18:42:48] \"GET / HTTP/1.1\" 200 -\n"
     ]
    },
    {
     "name": "stdout",
     "output_type": "stream",
     "text": [
      "path: /meas_light; query: \n"
     ]
    },
    {
     "name": "stderr",
     "output_type": "stream",
     "text": [
      "127.0.0.1 - - [20/Dec/2024 18:42:49] \"GET /meas_light HTTP/1.1\" 200 -\n"
     ]
    },
    {
     "name": "stdout",
     "output_type": "stream",
     "text": [
      "path: /sample_light; query: count=5&delay=1.5\n",
      "i = 0th meas.\n",
      "i = 1th meas.\n",
      "i = 2th meas.\n",
      "i = 3th meas.\n",
      "i = 4th meas.\n"
     ]
    },
    {
     "name": "stderr",
     "output_type": "stream",
     "text": [
      "127.0.0.1 - - [20/Dec/2024 18:43:26] \"GET /sample_light?count=5&delay=1.5 HTTP/1.1\" 200 -\n"
     ]
    },
    {
     "name": "stdout",
     "output_type": "stream",
     "text": [
      "path: /buzzer_mi; query: note=mi&delay=1000\n",
      "Parsed query: {'note': ['mi'], 'delay': ['1000']}\n"
     ]
    },
    {
     "name": "stderr",
     "output_type": "stream",
     "text": [
      "127.0.0.1 - - [20/Dec/2024 18:43:47] \"GET /buzzer_mi?note=mi&delay=1000 HTTP/1.1\" 200 -\n",
      "127.0.0.1 - - [20/Dec/2024 18:43:47] \"GET /buzzer_mi?note=mi&delay=1000 HTTP/1.1\" 200 -\n"
     ]
    },
    {
     "name": "stdout",
     "output_type": "stream",
     "text": [
      "path: /led; query: color=blue\n",
      "{'color': ['blue']}\n"
     ]
    },
    {
     "name": "stderr",
     "output_type": "stream",
     "text": [
      "127.0.0.1 - - [20/Dec/2024 18:44:07] \"GET /led?color=blue HTTP/1.1\" 200 -\n"
     ]
    },
    {
     "name": "stdout",
     "output_type": "stream",
     "text": [
      "path: /led; query: color=off\n",
      "{'color': ['off']}\n"
     ]
    },
    {
     "name": "stderr",
     "output_type": "stream",
     "text": [
      "127.0.0.1 - - [20/Dec/2024 18:44:08] \"GET /led?color=off HTTP/1.1\" 200 -\n"
     ]
    },
    {
     "name": "stdout",
     "output_type": "stream",
     "text": [
      "path: /; query: \n"
     ]
    },
    {
     "name": "stderr",
     "output_type": "stream",
     "text": [
      "127.0.0.1 - - [20/Dec/2024 18:44:09] \"GET / HTTP/1.1\" 200 -\n"
     ]
    },
    {
     "name": "stdout",
     "output_type": "stream",
     "text": [
      "path: /led; query: color=magenta\n",
      "{'color': ['magenta']}\n"
     ]
    },
    {
     "name": "stderr",
     "output_type": "stream",
     "text": [
      "127.0.0.1 - - [20/Dec/2024 18:44:10] \"GET /led?color=magenta HTTP/1.1\" 200 -\n"
     ]
    }
   ],
   "source": [
    "ws.start()"
   ]
  },
  {
   "cell_type": "code",
   "execution_count": null,
   "id": "f6cc61aa-42fd-4a3d-a066-f2e7aa223389",
   "metadata": {},
   "outputs": [],
   "source": []
  }
 ],
 "metadata": {
  "kernelspec": {
   "display_name": "Python 3 (ipykernel)",
   "language": "python",
   "name": "python3"
  },
  "language_info": {
   "codemirror_mode": {
    "name": "ipython",
    "version": 3
   },
   "file_extension": ".py",
   "mimetype": "text/x-python",
   "name": "python",
   "nbconvert_exporter": "python",
   "pygments_lexer": "ipython3",
   "version": "3.13.0"
  }
 },
 "nbformat": 4,
 "nbformat_minor": 5
}
